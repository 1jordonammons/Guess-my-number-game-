{
  "nbformat": 4,
  "nbformat_minor": 0,
  "metadata": {
    "colab": {
      "provenance": []
    },
    "kernelspec": {
      "name": "python3",
      "display_name": "Python 3"
    },
    "language_info": {
      "name": "python"
    }
  },
  "cells": [
    {
      "cell_type": "code",
      "execution_count": null,
      "metadata": {
        "colab": {
          "base_uri": "https://localhost:8080/"
        },
        "id": "hJf2hMh2k1Kp",
        "outputId": "b8f25dd4-f9e8-48ce-e83a-77e781124f3f"
      },
      "outputs": [
        {
          "output_type": "stream",
          "name": "stdout",
          "text": [
            "Guess my Number Game \n",
            "________________________ \n",
            "                      \n",
            "Hello Traveler , How do you want the game \n",
            "                      \n"
          ]
        }
      ],
      "source": [
        "import random\n",
        "\n",
        "print(\"Guess my Number Game \")\n",
        "print(\"________________________ \")\n",
        "print(\"                      \")\n",
        "print(\"Hello Traveler , How do you want the game \")\n",
        "print(\"                      \")\n",
        "Difficulty = int(input(\"1.Easy  2.Medium  3.Hard ? \"))\n",
        "\n",
        "\n",
        "\n",
        "\n",
        "\n",
        "def Gamedifficulty(x,y):\n",
        "\n",
        "  attemps = 5\n",
        "\n",
        "  Guess_numbers = []\n",
        "\n",
        "  Guess = random.randint(x,y)\n",
        "\n",
        "  print(f'you only have {attemps} attemps to start with ')\n",
        "\n",
        "  Guess_plyar = int(input(\" Take a guess lucky Traveler ? \"))\n",
        "\n",
        "\n",
        "\n",
        "  while Guess_plyar != Guess and attemps != 0 :\n",
        "\n",
        "\n",
        "\n",
        "    if Guess_plyar > Guess:\n",
        "      attemps = attemps - 1\n",
        "      print(f'you only have {attemps} attemps left ')\n",
        "      print(\"                      \")\n",
        "      Guess_numbers.append(Guess_plyar)\n",
        "      print(f'you guessed {Guess_numbers} so far' )\n",
        "      print(\"                      \")\n",
        "      print(\"Guess is too high \")\n",
        "      print(\"                      \")\n",
        "      Guess_plyar = int(input(\" try again  \"))\n",
        "      print(\"                      \")\n",
        "\n",
        "\n",
        "\n",
        "\n",
        "    else:\n",
        "      attemps = attemps - 1\n",
        "      print(f'you only have {attemps} attemps left ')\n",
        "      print(\"                      \")\n",
        "      Guess_numbers.append(Guess_plyar)\n",
        "      print(f'you guessed {Guess_numbers} so far' )\n",
        "      print(\"                      \")\n",
        "      print(\"Guess is too low \")\n",
        "      print(\"                      \")\n",
        "      Guess_plyar = int(input(\" try again  \"))\n",
        "\n",
        "\n",
        "  if attemps == 0:\n",
        "    print('Sorry Traveler you loss')\n",
        "\n",
        "  if Guess_plyar == Guess:\n",
        "    print(\"                      \")\n",
        "    print(\"________________________ \")\n",
        "    print(\"                      \")\n",
        "    print(\"Congrats Traveler , Safe travels \")\n",
        "\n",
        "\n",
        "if Difficulty == 1:\n",
        "  Gamedifficulty(1,10)\n",
        "\n",
        "\n",
        "elif Difficulty == 2:\n",
        "  Gamedifficulty(1,25)\n",
        "\n",
        "else:\n",
        "  Gamedifficulty(1,50)\n",
        "\n"
      ]
    }
  ]
}